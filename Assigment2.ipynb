{
 "cells": [
  {
   "cell_type": "markdown",
   "id": "e45bbb0f-5abc-42bd-95ed-4871673f5829",
   "metadata": {},
   "source": [
    "Question 1: Age Group Classification\n",
    "Write a Python program that takes the age of a person as input and classifies them into one of the\n",
    "following age groups:\n",
    "&quot;Child&quot; if the age is between 0 and 12 (inclusive).\n",
    "&quot;Teenager&quot; if the age is between 13 and 19 (inclusive).\n",
    "&quot;Adult&quot; if the age is between 20 and 64 (inclusive).\n",
    "&quot;Senior&quot; if the age is 65 or older."
   ]
  },
  {
   "cell_type": "code",
   "execution_count": null,
   "id": "afc9f6f3-fcaf-43f5-a392-2886338e0e8e",
   "metadata": {},
   "outputs": [],
   "source": [
    "age = int(input(\"Enter the age of the person =\"))\n",
    "if 0 <= age <= 12:\n",
    "    print (\"Chid\")\n",
    "elif 13 <= age <= 19:\n",
    "    print(\"Teenager\")\n",
    "elif 20 <= age <= 64:\n",
    "    print(\"Adult\")\n",
    "elif age >= 65:\n",
    "    print (\"Senior\")\n"
   ]
  },
  {
   "cell_type": "markdown",
   "id": "96eb03e0-c5f1-4309-9fef-a5639c369c85",
   "metadata": {},
   "source": [
    "Question 2: Checking for Eligibility for Discount\n",
    "Write a Python program that determines if a customer is eligible for a discount. The program should\n",
    "take the customer&#39;s membership status and purchase amount as input and check the following\n",
    "conditions:\n",
    "The customer is a &quot;premium&quot; member and the purchase amount is greater than or equal to 1000.\n",
    "The customer is a &quot;regular&quot; member and the purchase amount is greater than or equal to 2000.\n",
    "If the customer meets either of the above conditions, print &quot;Eligible for discount&quot;, otherwise print\n",
    "&quot;Not eligible for discount&quot;."
   ]
  },
  {
   "cell_type": "code",
   "execution_count": null,
   "id": "d387e0a2-e96a-4bf5-b781-a53c8be1ab30",
   "metadata": {},
   "outputs": [],
   "source": [
    "membership = (input(\"Enter your Membership status premium/regular\"))\n",
    "amount = float(input(\"Enter your amount =\"))\n",
    "if (membership == \"premium\" and amount >= 1000) or (membership == \"regular\" and amount >= 2000):\n",
    "    print(\"Eligible for discount\")\n",
    "else:\n",
    "    print(\"Not eligible for discount\")"
   ]
  },
  {
   "cell_type": "markdown",
   "id": "3125c374-cd22-4869-9c63-ee44d8fbf4c4",
   "metadata": {},
   "source": [
    "Question 3: Voting Eligibility Check\n",
    "Write a Python program that checks if a person is eligible to vote based on their age and citizenship\n",
    "status. The program should take the following inputs:\n",
    "Age (an integer).\n",
    "Citizenship status (a string: either &quot;citizen&quot; or &quot;non-citizen&quot;).\n",
    "\n",
    "The eligibility conditions are:\n",
    "The person must be at least 18 years old and a &quot;citizen&quot; to be eligible to vote.\n",
    "Alternatively, the person can be at least 16 years old and a &quot;citizen&quot; of a special region where voting is\n",
    "allowed from age 16.\n",
    "\n",
    "If the person meets either of the conditions, print &quot;Eligible to vote&quot;, otherwise print &quot;Not eligible to\n",
    "vote&quot;."
   ]
  },
  {
   "cell_type": "code",
   "execution_count": null,
   "id": "28fd76b7-8db5-48c9-83b0-e19d22a929b1",
   "metadata": {},
   "outputs": [],
   "source": [
    "age = int(input(\"Enter your age = \"))\n",
    "citizenship = input(\"Enter your citizenship status (citizen/non-citizen): \").lower()\n",
    "\n",
    "if (age >= 18 and citizenship == \"citizen\") or (age >= 16 and citizenship == \"citizen\"):\n",
    "    print(\"Eligible to vote\")\n",
    "else:\n",
    "    print(\"Not eligible to vote\")\n"
   ]
  },
  {
   "cell_type": "markdown",
   "id": "ed3453d6-5640-4e1f-a2ed-fd5fd3338b93",
   "metadata": {},
   "source": [
    "Question 4: Employee Salary Bonus Eligibility\n",
    "Write a Python program that determines if an employee is eligible for a salary bonus based on the\n",
    "following conditions:\n",
    "The employee&#39;s performance rating is &quot;Excellent&quot; and their years of service are greater than or equal\n",
    "to 5 years.\n",
    "The employee&#39;s performance rating is &quot;Good&quot; and their years of service are greater than or equal to\n",
    "10 years.\n",
    "The employee&#39;s performance rating is &quot;Satisfactory&quot; or their years of service are greater than or\n",
    "equal to 15 years.\n",
    "The employee is not eligible for a bonus if neither of these conditions is met.\n",
    "The program should print one of the following:\n",
    "&quot;Eligible for bonus&quot; if the employee meets any of the criteria.\n",
    "&quot;Not eligible for bonus&quot; if none of the conditions apply."
   ]
  },
  {
   "cell_type": "code",
   "execution_count": 48,
   "id": "2f7bb47d-d096-417c-93cb-1e6635878fcc",
   "metadata": {},
   "outputs": [
    {
     "name": "stdin",
     "output_type": "stream",
     "text": [
      "Enter your performance rating (Excellent/Good/Satisfactory):  good\n",
      "Enter your years of service:  15\n"
     ]
    },
    {
     "name": "stdout",
     "output_type": "stream",
     "text": [
      "Eligible for bonus\n"
     ]
    }
   ],
   "source": [
    "performance = input(\"Enter your performance rating (Excellent/Good/Satisfactory): \").capitalize()\n",
    "years = int(input(\"Enter your years of service: \"))\n",
    "\n",
    "if (performance == \"Excellent\" and years >= 5) or \\\n",
    "   (performance == \"Good\" and years >= 10) or \\\n",
    "   (performance == \"Satisfactory\" or years >= 15):\n",
    "    print(\"Eligible for bonus\")\n",
    "else:\n",
    "    print(\"Not eligible for bonus\")"
   ]
  },
  {
   "cell_type": "markdown",
   "id": "6c2f3189-f5b9-4ac3-ba9a-13cd8ffe9eec",
   "metadata": {},
   "source": [
    "Question 5. Write a program that replaces spaces with underscores, counts how many underscores are\n",
    "there, and finds the position of the first underscore.\n",
    "Use text: &quot;I&#39;m learning Python programming&quot;?"
   ]
  },
  {
   "cell_type": "code",
   "execution_count": 61,
   "id": "0fab0633-b692-4a25-98e4-7a693e6ad487",
   "metadata": {},
   "outputs": [
    {
     "name": "stdout",
     "output_type": "stream",
     "text": [
      "Modified text = I'm_learning_Python_programming\n",
      "Number of underscores = 3\n",
      "Position of first underscore = 3\n"
     ]
    }
   ],
   "source": [
    "text = \"I'm learning Python programming\"\n",
    "\n",
    "modified = text.replace(\" \", \"_\")\n",
    "\n",
    "underscore = modified.count(\"_\")\n",
    "\n",
    "firstunderscore = modified.find(\"_\")\n",
    "\n",
    "print(\"Modified text =\", modified)\n",
    "print(\"Number of underscores =\", underscore)\n",
    "print(\"Position of first underscore =\", firstunderscore)"
   ]
  },
  {
   "cell_type": "markdown",
   "id": "aa17fe48-9b70-48ce-b3a5-d32b16577f1d",
   "metadata": {},
   "source": [
    "Question 6:\n",
    "Write a Python program that:\n",
    " Takes a string as input.\n",
    " Prints all characters of the string except the last 3 using slicing.\n",
    " Prints every second character of the string using slicing.\n",
    " Prints the string in reverse using slicing"
   ]
  },
  {
   "cell_type": "code",
   "execution_count": 13,
   "id": "b2b52088-23dd-4f65-84d4-31e292cd64d8",
   "metadata": {},
   "outputs": [
    {
     "name": "stdin",
     "output_type": "stream",
     "text": [
      "Enter a string =  dfgsfhj\n"
     ]
    },
    {
     "name": "stdout",
     "output_type": "stream",
     "text": [
      "All characters except the last 3 = dfgs\n",
      "Every second character = dgfj\n",
      "String in reverse = jhfsgfd\n"
     ]
    }
   ],
   "source": [
    "inputstring = input(\"Enter a string = \")\n",
    "\n",
    "print(\"All characters except the last 3 =\", inputstring[:-3])\n",
    "\n",
    "print(\"Every second character =\", inputstring[::2])\n",
    "\n",
    "print(\"String in reverse =\", inputstring[::-1])"
   ]
  },
  {
   "cell_type": "markdown",
   "id": "01888b2e-bb88-4e30-babe-9c6aabaf3761",
   "metadata": {},
   "source": [
    "Question 7. Given a sentence, you need to reverse the order of the words in the sentence while\n",
    "preserving their original capitalization and spaces.\n",
    "Use text : &quot;Hello World, We are learning Python&quot;"
   ]
  },
  {
   "cell_type": "code",
   "execution_count": 11,
   "id": "2d645406-ef4f-4ecb-8a59-70de87eb10cd",
   "metadata": {},
   "outputs": [
    {
     "name": "stdout",
     "output_type": "stream",
     "text": [
      "Reversed sentence: Python learning are We World, Hello\n"
     ]
    }
   ],
   "source": [
    "sentence = \"Hello World, We are learning Python\"\n",
    "\n",
    "words = sentence.split()\n",
    "\n",
    "reversedsentence = \" \".join(reversed(words))\n",
    "\n",
    "print(\"Reversed sentence =\", reversedsentence)\n"
   ]
  },
  {
   "cell_type": "markdown",
   "id": "cf64d239-b090-46b0-818d-b270d2a2f279",
   "metadata": {},
   "source": [
    "Question 8. You have a product code that follows the format &quot;SKU-12345-XYZ&quot;. You need to:\n",
    "Remove the &quot;SKU-&quot; and the &quot;-XYZ&quot; from the product code. Extract and return the number"
   ]
  },
  {
   "cell_type": "code",
   "execution_count": 9,
   "id": "0763808f-8ada-461d-a1af-8692cacb525c",
   "metadata": {},
   "outputs": [
    {
     "name": "stdout",
     "output_type": "stream",
     "text": [
      "Extracted number = 12345\n"
     ]
    }
   ],
   "source": [
    "productcode = \"SKU-12345-XYZ\"\n",
    "\n",
    "number = productcode[4:-4]\n",
    "\n",
    "print(\"Extracted number =\", number)\n"
   ]
  },
  {
   "cell_type": "markdown",
   "id": "94f5e091-68ca-4776-af9f-98f247fb5ba2",
   "metadata": {},
   "source": [
    "Question 9. Write a Python program to check user password has following:\n",
    "Whether the string contains any uppercase characters. Whether the string contains any lowercase\n",
    "characters. Whether the string contains any spaces. Whether the string contains any special\n",
    "characters (anything other than letters, digits, and spaces)."
   ]
  },
  {
   "cell_type": "code",
   "execution_count": 5,
   "id": "e22f1981-d1bb-4e71-842a-ff909e1aa54f",
   "metadata": {},
   "outputs": [
    {
     "name": "stdin",
     "output_type": "stream",
     "text": [
      "Enter your password:  ksdfuygfs\n"
     ]
    },
    {
     "name": "stdout",
     "output_type": "stream",
     "text": [
      "Contains uppercase: False\n",
      "Contains lowercase: True\n",
      "Contains spaces: False\n",
      "Contains special characters: False\n"
     ]
    }
   ],
   "source": [
    "import re\n",
    "\n",
    "password = input(\"Enter your password: \")\n",
    "\n",
    "contains_uppercase = any(char.isupper() for char in password)\n",
    "\n",
    "contains_lowercase = any(char.islower() for char in password)\n",
    "\n",
    "contains_spaces = \" \" in password\n",
    "\n",
    "contains_special_chars = bool(re.search(r'[^a-zA-Z0-9\\s]', password))\n",
    "\n",
    "print(\"Contains uppercase:\", contains_uppercase)\n",
    "print(\"Contains lowercase:\", contains_lowercase)\n",
    "print(\"Contains spaces:\", contains_spaces)\n",
    "print(\"Contains special characters:\", contains_special_chars)\n"
   ]
  },
  {
   "cell_type": "markdown",
   "id": "61f5a415-4f63-425f-aab7-1a39d44a42a8",
   "metadata": {},
   "source": [
    "Question 10: Find the Longest Word\n",
    "Write a Python program that finds the longest word in a given string.\n",
    "Example:\n",
    "Input: &quot;I love programming in Python&quot;\n",
    "Output: &quot;programming&quot;"
   ]
  },
  {
   "cell_type": "code",
   "execution_count": 3,
   "id": "84be446a-8284-4024-bd95-b4a5c628062b",
   "metadata": {},
   "outputs": [
    {
     "name": "stdin",
     "output_type": "stream",
     "text": [
      "Enter a sentence = jkdfhg jdshaiush jsdhufh\n"
     ]
    },
    {
     "name": "stdout",
     "output_type": "stream",
     "text": [
      "The longest word is: jdshaiush\n"
     ]
    }
   ],
   "source": [
    "sentence = input(\"Enter a sentence =\")\n",
    "\n",
    "words = sentence.split()\n",
    "\n",
    "longestword = max(words, key=len)\n",
    "\n",
    "print(\"The longest word is:\", longestword)"
   ]
  },
  {
   "cell_type": "code",
   "execution_count": null,
   "id": "d8a2ac25-0598-490e-9351-202599a98860",
   "metadata": {},
   "outputs": [],
   "source": []
  }
 ],
 "metadata": {
  "kernelspec": {
   "display_name": "Python 3 (ipykernel)",
   "language": "python",
   "name": "python3"
  },
  "language_info": {
   "codemirror_mode": {
    "name": "ipython",
    "version": 3
   },
   "file_extension": ".py",
   "mimetype": "text/x-python",
   "name": "python",
   "nbconvert_exporter": "python",
   "pygments_lexer": "ipython3",
   "version": "3.12.7"
  }
 },
 "nbformat": 4,
 "nbformat_minor": 5
}
