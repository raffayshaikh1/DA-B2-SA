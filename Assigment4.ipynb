{
 "cells": [
  {
   "cell_type": "markdown",
   "id": "9186dc79-cfa4-46c4-a8f8-40963f7e0dd6",
   "metadata": {},
   "source": [
    "Q1. my_tuple = ( (1, 2, 3), [4, 5, 6], (&#39;apple&#39;, &#39;banana&#39;, &#39;cherry&#39;), [7, 8, 9] )\n",
    "• Print all elements from my_tuple on a new line (using for loop)\n",
    "• Create a new tuple by concatenating the first and last elements of my_tuple"
   ]
  },
  {
   "cell_type": "code",
   "execution_count": 23,
   "id": "8180e205-418d-4d1d-9062-d3695c61a27c",
   "metadata": {},
   "outputs": [
    {
     "name": "stdout",
     "output_type": "stream",
     "text": [
      "(1, 2, 3)\n",
      "[4, 5, 6]\n",
      "('apple', 'banana', 'cherry')\n",
      "[7, 8, 9]\n",
      "New tuple= (1, 2, 3, 7, 8, 9)\n"
     ]
    }
   ],
   "source": [
    "my_tuple = ( (1, 2, 3), [4, 5, 6], (\"apple\", \"banana\", \"cherry\"), [7, 8, 9] )\n",
    "for element in my_tuple:\n",
    "    print(element)\n",
    "new_tuple = tuple(my_tuple[0]) + tuple(my_tuple[-1])\n",
    "print(\"New tuple=\", new_tuple)"
   ]
  },
  {
   "cell_type": "markdown",
   "id": "2b14e34a-dc65-4a47-8a33-b3d14bb19fe4",
   "metadata": {},
   "source": [
    "Q2. inventory = { &quot;The Great Gatsby&quot;: {&quot;price&quot;: 10.99, &quot;quantity&quot;: 5}, &quot;Rich dad poor dad&quot;: {&quot;price&quot;:\n",
    "8.99, &quot;quantity&quot;: 8}, &quot;Harry Potter&quot;: {&quot;price&quot;: 12.50, &quot;quantity&quot;: 2}, }\n",
    "• Add a new book in inventory using method and get all book titles using method\n",
    "• Remove a book if it&#39;s out of stock"
   ]
  },
  {
   "cell_type": "code",
   "execution_count": 26,
   "id": "3a6cbf5a-cc02-4111-a47f-a2ab9945b9c3",
   "metadata": {},
   "outputs": [
    {
     "name": "stdout",
     "output_type": "stream",
     "text": [
      "Book Titles in Inventory:\n",
      "The Great Gatsby\n",
      "Rich dad poor dad\n",
      "Harry Potter\n",
      "To Kill a Mockingbird\n",
      "\n",
      "Updated Inventory (after removing out of stock books):\n",
      "{'The Great Gatsby': {'price': 10.99, 'quantity': 5}, 'Rich dad poor dad': {'price': 8.99, 'quantity': 8}, 'Harry Potter': {'price': 12.5, 'quantity': 2}, 'To Kill a Mockingbird': {'price': 9.99, 'quantity': 10}}\n"
     ]
    }
   ],
   "source": [
    "inventory = {\n",
    "    \"The Great Gatsby\": {\"price\": 10.99, \"quantity\": 5},\n",
    "    \"Rich dad poor dad\": {\"price\": 8.99, \"quantity\": 8},\n",
    "    \"Harry Potter\": {\"price\": 12.50, \"quantity\": 2}\n",
    "}\n",
    "\n",
    "inventory[\"To Kill a Mockingbird\"] = {\"price\": 9.99, \"quantity\": 10}\n",
    "\n",
    "print(\"Book Titles in Inventory:\")\n",
    "for title in inventory.keys():\n",
    "    print(title)\n",
    "\n",
    "\n",
    "for book in list(inventory.keys()):  \n",
    "    if inventory[book][\"quantity\"] == 0:\n",
    "        del inventory[book]\n",
    "\n",
    "print(\"\\nUpdated Inventory (after removing out of stock books):\")\n",
    "print(inventory)\n"
   ]
  },
  {
   "cell_type": "markdown",
   "id": "5021845d-4210-4c6a-9a53-422fe3652656",
   "metadata": {},
   "source": [
    "Q3. An ecommerce store stores information about its products in a nested dictionary. The outer\n",
    "dictionary uses product IDs as keys, and the inner dictionary stores product details like name,\n",
    "category, price, and stock quantity.\n",
    "products = { 101: {&quot;name&quot;: &quot;Laptop&quot;, &quot;category&quot;: &quot;Electronics&quot;, &quot;price&quot;: 1200, &quot;stock&quot;: 50}, 102:\n",
    "{&quot;name&quot;: &quot;Shirt&quot;, &quot;category&quot;: &quot;Apparel&quot;, &quot;price&quot;: 25, &quot;stock&quot;: 200}, 103: {&quot;name&quot;: &quot;Coffee Maker&quot;,\n",
    "&quot;category&quot;: &quot;Home Appliances&quot;, &quot;price&quot;: 80, &quot;stock&quot;: 30} }\n",
    "• Increase the stock of the &quot;Shirt&quot; product (add 50 more units)\n",
    "• Add a new product (e.g., &quot;Smartphone&quot;)"
   ]
  },
  {
   "cell_type": "code",
   "execution_count": 35,
   "id": "7a50419b-484c-4d1f-a15d-0b2fa93819ed",
   "metadata": {},
   "outputs": [
    {
     "name": "stdout",
     "output_type": "stream",
     "text": [
      "Updated Products Dictionary:\n",
      "{101: {'name': 'Laptop', 'category': 'Electronics', 'price': 1200, 'stock': 50}, 102: {'name': 'Shirt', 'category': 'Apparel', 'price': 25, 'stock': 250}, 103: {'name': 'Coffee Maker', 'category': 'Home Appliances', 'price': 80, 'stock': 30}, 104: {'name': 'Smartphone', 'category': 'Electronics', 'price': 700, 'stock': 100}}\n"
     ]
    }
   ],
   "source": [
    "products = {\n",
    "    101: {\"name\": \"Laptop\", \"category\": \"Electronics\", \"price\": 1200, \"stock\": 50},\n",
    "    102: {\"name\": \"Shirt\", \"category\": \"Apparel\", \"price\": 25, \"stock\": 200},\n",
    "    103: {\"name\": \"Coffee Maker\", \"category\": \"Home Appliances\", \"price\": 80, \"stock\": 30}\n",
    "}\n",
    "\n",
    "products[102][\"stock\"] += 50\n",
    "\n",
    "products[104] = {\"name\": \"Smartphone\", \"category\": \"Electronics\", \"price\": 700, \"stock\": 100}\n",
    "\n",
    "print(\"Updated Products Dictionary:\")\n",
    "print(products)"
   ]
  },
  {
   "cell_type": "code",
   "execution_count": 39,
   "id": "d7826353-dee3-4191-a9ed-9567a0102bf7",
   "metadata": {},
   "outputs": [
    {
     "name": "stdout",
     "output_type": "stream",
     "text": [
      "Updated Shopping List: ['apple', 'banana', 'grape', 'orange']\n"
     ]
    }
   ],
   "source": [
    "shopping_list = [\"apple\", \"banana\", \"apple\", \"orange\", \"banana\", \"grape\"]\n",
    "shopping_list = list(set(shopping_list))\n",
    "print(\"Updated Shopping List:\", shopping_list)"
   ]
  },
  {
   "cell_type": "markdown",
   "id": "68cdd86f-f5c9-4f34-8aa5-b2b2095208cc",
   "metadata": {},
   "source": [
    "Q5. You are managing a list of students enrolled in two different courses. You need to perform\n",
    "various set operations to understand the student enrollment. Task: Create two sets: one for students\n",
    "in &quot;Course A&quot; and one for students in &quot;Course B&quot;. Find the students who are in &quot;Course A&quot; but not in\n",
    "&quot;Course B&quot; (difference). Find students who are only in one of the two courses (symmetric\n",
    "difference). course_a = {&quot;John&quot;, &quot;Alice&quot;, &quot;Bob&quot;, &quot;David&quot;} course_b = {&quot;Alice&quot;, &quot;Eve&quot;, &quot;Charlie&quot;,\n",
    "&quot;David&quot;}\n",
    "• Find students who are in Course A but not in Course B (difference)\n",
    "• Find students who are only in one of the two courses (symmetric difference)"
   ]
  },
  {
   "cell_type": "code",
   "execution_count": 42,
   "id": "4659da94-2fd4-4c9c-9db3-a901c2905449",
   "metadata": {},
   "outputs": [
    {
     "name": "stdout",
     "output_type": "stream",
     "text": [
      "Students in Course A but not in Course B: {'John', 'Bob'}\n",
      "Students only in one of the courses: {'Bob', 'Eve', 'John', 'Charlie'}\n"
     ]
    }
   ],
   "source": [
    "course_a = {\"John\", \"Alice\", \"Bob\", \"David\"}\n",
    "course_b = {\"Alice\", \"Eve\", \"Charlie\", \"David\"}\n",
    "\n",
    "students_in_a_not_b = course_a - course_b\n",
    "print(\"Students in Course A but not in Course B:\", students_in_a_not_b)\n",
    "\n",
    "students_in_one_course = course_a ^ course_b\n",
    "print(\"Students only in one of the courses:\", students_in_one_course)"
   ]
  },
  {
   "cell_type": "markdown",
   "id": "9183bbd7-c684-4a5a-b716-2dcbad1d077e",
   "metadata": {},
   "source": [
    "Q6. Write a Python program that calculates the sum of all even numbers between 1 and 50\n",
    "(inclusive) using a for loop.\n",
    "Hint\n",
    "1. Initialize a variable to hold the sum (e.g., sum_of_evens).\n",
    "2. Use a for loop to iterate through all numbers from 1 to 50.\n",
    "3. Inside the loop, check if the number is even.\n",
    "4. If the number is even, add it to sum_of_evens.\n",
    "5. After the loop finishes, print the total sum of all even numbers between 1 and 50."
   ]
  },
  {
   "cell_type": "code",
   "execution_count": 49,
   "id": "7abb1edf-6479-4dbf-94b1-ca160885bf2a",
   "metadata": {},
   "outputs": [
    {
     "name": "stdout",
     "output_type": "stream",
     "text": [
      "Sum of all even numbers between 1 and 50: 650\n"
     ]
    }
   ],
   "source": [
    "sum_of_evens = 0\n",
    "\n",
    "for num in range(1, 51):\n",
    "    if num % 2 == 0:\n",
    "        sum_of_evens += num\n",
    "\n",
    "print(\"Sum of all even numbers between 1 and 50:\", sum_of_evens)"
   ]
  },
  {
   "cell_type": "markdown",
   "id": "0d816cdd-4da9-4ee6-88ff-73812632739e",
   "metadata": {},
   "source": [
    "Q7. Write a Python program that prints the multiplication table for a given number (between 1 and\n",
    "10) using a for loop.\n",
    "\n",
    "Hint:\n",
    "1. Ask the user for a number between 1 and 10 .\n",
    "2. Use a for loop to iterate through the numbers from 1 to 10.\n",
    "3. For each iteration, calculate the product of the given number and the current number in the\n",
    "loop.\n",
    "4. Print the result in a readable format (e.g., 5 x 1 = 5).\n",
    "5. Ensure the program works correctly for any number between 1 and 10.\n",
    "\n",
    "Output Hint:\n",
    "4 x 1 = 4\n",
    "4 x 2 = 8\n",
    "4 x 3 = 12\n",
    "4 x 4 = 16\n",
    "4 x 5 = 20\n",
    "4 x 6 = 24\n",
    "4 x 7 = 28\n",
    "4 x 8 = 32\n",
    "4 x 9 = 36\n",
    "4 x 10 = 40"
   ]
  },
  {
   "cell_type": "code",
   "execution_count": 56,
   "id": "48839b4a-dc20-4aaf-a2c4-ff19e504fc59",
   "metadata": {},
   "outputs": [
    {
     "name": "stdin",
     "output_type": "stream",
     "text": [
      "Enter a number between 1 and 10:  4\n"
     ]
    },
    {
     "name": "stdout",
     "output_type": "stream",
     "text": [
      "4 x 1 = 4\n",
      "4 x 2 = 8\n",
      "4 x 3 = 12\n",
      "4 x 4 = 16\n",
      "4 x 5 = 20\n",
      "4 x 6 = 24\n",
      "4 x 7 = 28\n",
      "4 x 8 = 32\n",
      "4 x 9 = 36\n",
      "4 x 10 = 40\n"
     ]
    }
   ],
   "source": [
    "number = int(input(\"Enter a number between 1 and 10: \"))\n",
    "\n",
    "if 1 <= number <= 10:\n",
    "    for i in range(1, 11):\n",
    "        print(f\"{number} x {i} = {number * i}\")\n",
    "else:\n",
    "    print(\"Please enter a number between 1 and 10.\")"
   ]
  },
  {
   "cell_type": "markdown",
   "id": "6c94507b-1ec2-466b-bf3a-f033c44310c2",
   "metadata": {},
   "source": [
    "Q8. Power of a Number\n",
    "Write a Python program that takes a number and prints the powers of the number (starting from 1\n",
    "to 10) using a while loop. For example, if the user inputs 3, the output should be:\n",
    "3^1 = 3\n",
    "3^2 = 9\n",
    "3^3 = 27\n",
    "... up to 3^10."
   ]
  },
  {
   "cell_type": "code",
   "execution_count": 61,
   "id": "c83cd5a7-523b-42d9-93cf-84c6c4522494",
   "metadata": {},
   "outputs": [
    {
     "name": "stdin",
     "output_type": "stream",
     "text": [
      "Enter a number:  1\n"
     ]
    },
    {
     "name": "stdout",
     "output_type": "stream",
     "text": [
      "1^1 = 1\n",
      "1^2 = 1\n",
      "1^3 = 1\n",
      "1^4 = 1\n",
      "1^5 = 1\n",
      "1^6 = 1\n",
      "1^7 = 1\n",
      "1^8 = 1\n",
      "1^9 = 1\n",
      "1^10 = 1\n"
     ]
    }
   ],
   "source": [
    "number = int(input(\"Enter a number: \"))\n",
    "i = 1\n",
    "\n",
    "while i <= 10:\n",
    "    print(f\"{number}^{i} = {number ** i}\")\n",
    "    i += 1"
   ]
  },
  {
   "cell_type": "markdown",
   "id": "b4d2393f-0e19-4c09-a71e-f10e71965b02",
   "metadata": {},
   "source": [
    "Q9. Problem Statement: Write a Python program that takes an integer input from the user and\n",
    "counts down from that number to 0. The program should display the current number at each step\n",
    "until it reaches 0, at which point it should print a message indicating the countdown is finished\n",
    "Output Hint:\n",
    "Enter a number to start the countdown: 3\n",
    "3\n",
    "2\n",
    "1\n",
    "0\n",
    "Countdown finished!"
   ]
  },
  {
   "cell_type": "code",
   "execution_count": 71,
   "id": "26147c92-38c8-49ed-ae1d-745d45f7f8d2",
   "metadata": {},
   "outputs": [
    {
     "name": "stdin",
     "output_type": "stream",
     "text": [
      "Enter a number to start the countdown:  1\n"
     ]
    },
    {
     "name": "stdout",
     "output_type": "stream",
     "text": [
      "1\n",
      "0\n",
      "Countdown finished!\n"
     ]
    }
   ],
   "source": [
    "number = int(input(\"Enter a number to start the countdown: \"))\n",
    "\n",
    "while number >= 0:\n",
    "    print(number)  \n",
    "    number -= 1  \n",
    "\n",
    "print(\"Countdown finished!\")"
   ]
  },
  {
   "cell_type": "markdown",
   "id": "c88cafb3-234f-4053-8f1f-2b413c48bb46",
   "metadata": {},
   "source": [
    "Q10. Write a Python program that takes an integer input n from the user and generates a right-\n",
    "angled triangle pattern of stars (*) with n rows. The first row should contain 1 star, the second row 2\n",
    "stars, the third row 3 stars, and so on until the nth row.\n",
    "Ensure the stars in each row are separated by spaces, and each row starts on a new line.\n",
    "Pattern:\n",
    "*\n",
    "**\n",
    "***\n",
    "****\n",
    "*****"
   ]
  },
  {
   "cell_type": "code",
   "execution_count": 69,
   "id": "6ef93e09-8b5c-4b45-8cb8-85ad3473e8cd",
   "metadata": {},
   "outputs": [
    {
     "name": "stdin",
     "output_type": "stream",
     "text": [
      "Enter the number of rows:  2\n"
     ]
    },
    {
     "name": "stdout",
     "output_type": "stream",
     "text": [
      "*\n",
      "* *\n"
     ]
    }
   ],
   "source": [
    "n = int(input(\"Enter the number of rows: \"))\n",
    "\n",
    "for i in range(1, n + 1):\n",
    "    print(\" \".join(\"*\" * i))"
   ]
  },
  {
   "cell_type": "code",
   "execution_count": null,
   "id": "072b24d7-fe26-4666-8669-1ce499d94677",
   "metadata": {},
   "outputs": [],
   "source": []
  }
 ],
 "metadata": {
  "kernelspec": {
   "display_name": "Python 3 (ipykernel)",
   "language": "python",
   "name": "python3"
  },
  "language_info": {
   "codemirror_mode": {
    "name": "ipython",
    "version": 3
   },
   "file_extension": ".py",
   "mimetype": "text/x-python",
   "name": "python",
   "nbconvert_exporter": "python",
   "pygments_lexer": "ipython3",
   "version": "3.12.7"
  }
 },
 "nbformat": 4,
 "nbformat_minor": 5
}
