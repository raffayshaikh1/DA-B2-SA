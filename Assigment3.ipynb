{
 "cells": [
  {
   "cell_type": "markdown",
   "id": "39697cb5-7eb5-4fdb-a7c0-c816f4164557",
   "metadata": {},
   "source": [
    "Q1. Write program to check a person’s eligibility for a loan based on age, credit score, and income. This time, the\n",
    "eligibility criteria will be:\n",
    "\n",
    "The person must be 18 years or older. The person must have a credit score of 650 or higher. The person must have\n",
    "an annual income of at least 30000 dollars If the person has a credit score of 700 or higher, they may still be eligible\n",
    "with an income of 25000 dollars or more."
   ]
  },
  {
   "cell_type": "code",
   "execution_count": 11,
   "id": "5b049e7f-ebb3-42e3-8415-88d5bc2ebadb",
   "metadata": {},
   "outputs": [
    {
     "name": "stdin",
     "output_type": "stream",
     "text": [
      "Enter your age 4\n",
      "Enter your Credit Score 4\n",
      "Enter your Income 4\n"
     ]
    },
    {
     "name": "stdout",
     "output_type": "stream",
     "text": [
      "Not eligible for loan.\n"
     ]
    }
   ],
   "source": [
    "age = int(input(\"Enter your age\"))\n",
    "credit = int(input(\"Enter your Credit Score\"))\n",
    "income = int(input(\"Enter your Income\"))\n",
    "\n",
    "if age >= 18 and credit >= 700 and (income >= 25000 or credit >= 650) and income >= 30000:\n",
    "    print(\"Eligible for loan.\")\n",
    "else:\n",
    "    print(\"Not eligible for loan.\")"
   ]
  },
  {
   "cell_type": "markdown",
   "id": "45ec9eaf-0f7f-4da5-ba55-150b58f5644c",
   "metadata": {},
   "source": [
    "Q2. Write a Python program that checks if a person is an adult (age ≥ 18).\n",
    "\n",
    "Take the age as input.\n",
    "If the person is underage (age &lt; 18), show message: &quot;You are underage&quot; and don&#39;t ask for experience.\n",
    "\n",
    "If the person is an adult, take years of experience as input and print:\n",
    "&quot;You have a lot of experience.&quot; (10+ years)\n",
    "&quot;You have moderate experience.&quot; (5-9 years)\n",
    "&quot;You are relatively new.&quot; (2-4 years)\n",
    "&quot;You are just starting out.&quot; (less than 2 years)"
   ]
  },
  {
   "cell_type": "code",
   "execution_count": null,
   "id": "5b3ba3e3-7d7d-401e-b0b1-e8cf3073c7ef",
   "metadata": {},
   "outputs": [],
   "source": [
    "age = int(input(\"Enter your age\"))\n",
    "experience = float(input(\"Enter your experience\"))\n",
    "if age <=18:\n",
    "    print(\"You are underage\")\n",
    "elif 10<= experience<=100:\n",
    "    print(\"You have lot of experience\")\n",
    "elif 5<=experience<=9:\n",
    "    print(\"you have moderate experience\")\n",
    "elif 2<= experience<=4:\n",
    "    print(\"you are relatively new\")\n",
    "elif experience<=2:\n",
    "    print(\"you are just starting out\")"
   ]
  },
  {
   "cell_type": "markdown",
   "id": "445f0e98-fd88-4221-a842-1be190d00bef",
   "metadata": {},
   "source": [
    "Q3. Write a program to explore below variables\n",
    "\n",
    "a) Print their memory address (to check if python assigns same address of different variables having same element)\n",
    "b) Find memory size and append them in a list, use this list to find data type having least memory size\n",
    "c) Print final name of data type which has lowest memory\n",
    "Result will help a programmer to decide which variable is storing less memory and variable locations"
   ]
  },
  {
   "cell_type": "code",
   "execution_count": 1,
   "id": "ce320c85-42f2-4275-bd36-95703d4f92d6",
   "metadata": {},
   "outputs": [
    {
     "name": "stdout",
     "output_type": "stream",
     "text": [
      "Memory address of 10: 140720445205208\n",
      "Memory address of 10.5: 2434398652400\n",
      "Memory address of hello: 2434377969472\n",
      "Memory address of [1, 2, 3]: 2434398561728\n",
      "Memory address of (1, 2, 3): 2434398289344\n",
      "Memory address of {1, 2, 3}: 2434398398816\n",
      "Memory address of {'key': 'value'}: 2434398760576\n",
      "\n",
      "Memory sizes and types:\n",
      "int: 28 bytes\n",
      "float: 24 bytes\n",
      "str: 46 bytes\n",
      "list: 88 bytes\n",
      "tuple: 64 bytes\n",
      "set: 216 bytes\n",
      "dict: 184 bytes\n",
      "\n",
      "The data type with the least memory size is: float with 24 bytes.\n"
     ]
    }
   ],
   "source": [
    "import sys\n",
    "\n",
    "var1 = 10          # Integer\n",
    "var2 = 10.5        # Float\n",
    "var3 = \"hello\"     # String\n",
    "var4 = [1, 2, 3]   # List\n",
    "var5 = (1, 2, 3)   # Tuple\n",
    "var6 = {1, 2, 3}   # Set\n",
    "var7 = {'key': 'value'}  # Dictionary\n",
    "\n",
    "variables = [var1, var2, var3, var4, var5, var6, var7]\n",
    "\n",
    "memory_info = []\n",
    "\n",
    "for var in variables:\n",
    "    print(f\"Memory address of {var}: {id(var)}\")\n",
    "    \n",
    "    size = sys.getsizeof(var)\n",
    "    memory_info.append((type(var).__name__, size))\n",
    "\n",
    "print(\"\\nMemory sizes and types:\")\n",
    "for data_type, size in memory_info:\n",
    "    print(f\"{data_type}: {size} bytes\")\n",
    "\n",
    "min_size = min(memory_info, key=lambda x: x[1])\n",
    "\n",
    "print(\"\\nThe data type with the least memory size is:\", min_size[0], \"with\", min_size[1], \"bytes.\")\n"
   ]
  },
  {
   "cell_type": "markdown",
   "id": "7ee93c0e-3b27-4569-b3ad-521a0c7801d7",
   "metadata": {},
   "source": [
    "Q4. Write a Python program that asks the user to enter an email address. The program should check if the email\n",
    "contains the characters @ and &quot;.&quot; (ignoring case). If either character is present, print &quot;Email format is valid.&quot;\n",
    "Otherwise, print &quot;Invalid email format.&quot;"
   ]
  },
  {
   "cell_type": "code",
   "execution_count": null,
   "id": "5829a3f3-bfe9-4499-a814-67366b8aeb43",
   "metadata": {},
   "outputs": [],
   "source": [
    "email = input(\"Please enter your email address \")\n",
    "\n",
    "if '@' in email and '.' in email:\n",
    "    print(\"Email format is valid\")\n",
    "else:\n",
    "    print(\"Invalid email format\")"
   ]
  },
  {
   "cell_type": "markdown",
   "id": "d0144b73-376b-440f-a972-5f9a0496ba7b",
   "metadata": {},
   "source": [
    "Q5. Write a python program to know data type of each element stored in a tuple, append the data types in a list.\n",
    "Show final output in a list as data types of tuple elements\n",
    "x = (11,22.333,&#39;apple&#39;,[1,2,3],(&#39;a&#39;,&#39;b&#39;))"
   ]
  },
  {
   "cell_type": "code",
   "execution_count": null,
   "id": "f12ec3b4-f78b-484f-8ee5-658c06302ee3",
   "metadata": {},
   "outputs": [],
   "source": [
    "x = (11, 22.333, 'apple', [1, 2, 3], ('a', 'b'))\n",
    "\n",
    "data_types = []\n",
    "\n",
    "for element in x:\n",
    "    data_types.append(type(element))\n",
    "\n",
    "print(\"Data types of tuple elements\", data_types)\n"
   ]
  },
  {
   "cell_type": "markdown",
   "id": "78bb27a0-3637-4c08-9f1a-788c51eb8a4a",
   "metadata": {},
   "source": [
    "Q6. Write a Python program that:\n",
    "Checks if a given username exists in a list of active users.\n",
    "Verifies if the user is the admin using identity operators.\n",
    "Hints:\n",
    "Use a list of tuples where each tuple contains a username and role\n",
    "[(&quot;alice&quot;, &quot;admin&quot;),\n",
    "(&quot;bob&quot;, &quot;user&quot;),\n",
    "(&quot;charlie&quot;, &quot;moderator&quot;)]\n",
    "Use the in operator to check if the username exists in the list.\n",
    "Use the is operator to check if the user is the admin (admin is a specific reference, e.g., (&quot;alice&quot;, &quot;admin&quot;))."
   ]
  },
  {
   "cell_type": "code",
   "execution_count": null,
   "id": "ae31bd14-6439-4565-8233-6f4417e52c04",
   "metadata": {},
   "outputs": [],
   "source": [
    "users_list = [(\"alice\", \"admin\"), (\"bob\", \"user\"), (\"charlie\", \"moderator\")]\n",
    "\n",
    "username_input = input(\"Enter your username: \")\n",
    "\n",
    "user_exists = False\n",
    "for user, role in users_list:\n",
    "    if user == username_input:\n",
    "        user_exists = True\n",
    "        if (user, role) is (\"alice\", \"admin\"):\n",
    "            print(f\"{username_input} is the admin.\")\n",
    "        else:\n",
    "            print(f\"{username_input} is not the admin, role is {role}.\")\n",
    "        break\n",
    "\n",
    "if not user_exists:\n",
    "    print(f\"User {username_input} does not exist.\")\n"
   ]
  },
  {
   "cell_type": "markdown",
   "id": "8e171dbc-e8f4-4fd2-ba33-402ed2188ef9",
   "metadata": {},
   "source": [
    "Q7. person1 has same family as of person2, write a program to print relation between person1 and person2, if their\n",
    "data is [&#39;father name&#39;,&#39;mother name&#39;,&#39;district&#39;,&#39;family number&#39;] same (Print relation &#39;Siblings&#39;) also check person1\n",
    "data with person3 which is cousin of person1 (Print relation &#39;Cousin&#39;)\n",
    "Hint:\n",
    "Use identity operator"
   ]
  },
  {
   "cell_type": "code",
   "execution_count": null,
   "id": "19acf37d-6d11-4bab-aff8-fb8e0f499347",
   "metadata": {},
   "outputs": [],
   "source": [
    "person1 = ['father name', 'mother name', 'district', 'family number']\n",
    "person2 = ['father name', 'mother name', 'district', 'family number']\n",
    "person3 = ['uncle name', 'aunt name', 'district', 'family number']\n",
    "\n",
    "if person1 is person2:\n",
    "    print(\"Siblings\")\n",
    "else:\n",
    "    print(\"Not siblings\")\n",
    "\n",
    "if person1 is not person3:\n",
    "    print(\"Cousin\")\n",
    "else:\n",
    "    print(\"Not cousin\")\n"
   ]
  },
  {
   "cell_type": "markdown",
   "id": "6a6a7145-ca03-45ee-9f01-f2952551ded7",
   "metadata": {},
   "source": [
    "Q8. Write a Python program to store and display a book&#39;s title, author, year of publication, and price using a tuple.\n",
    "\n",
    "Instructions:\n",
    "Create a tuple to store the book details.\n",
    "Ask the user for the book&#39;s title, author, year, and price.\n",
    "Display the stored book information."
   ]
  },
  {
   "cell_type": "code",
   "execution_count": null,
   "id": "50c0cbf4-c01b-4fe0-9169-ce96d1f65a79",
   "metadata": {},
   "outputs": [],
   "source": [
    "title = input(\"Enter the book's title: \")\n",
    "author = input(\"Enter the author's name: \")\n",
    "year = input(\"Enter the year of publication: \")\n",
    "price = float(input(\"Enter the price of the book: \"))\n",
    "\n",
    "book_details = (title, author, year, price)\n",
    "\n",
    "print(\"\\nBook Information:\")\n",
    "print(f\"Title: {book_details[0]}\")\n",
    "print(f\"Author: {book_details[1]}\")\n",
    "print(f\"Year of Publication: {book_details[2]}\")\n",
    "print(f\"Price: ${book_details[3]:.2f}\")\n"
   ]
  },
  {
   "cell_type": "markdown",
   "id": "a7083c85-c48e-4dfc-85b6-23e63b1952eb",
   "metadata": {},
   "source": [
    "Q9. Write a program to check if a user’s chosen subject is available in the list of offered subjects.\n",
    "Instructions:\n",
    "Given a list of subjects, ask the user to input a subject.\n",
    "Display whether the subject is available or not."
   ]
  },
  {
   "cell_type": "code",
   "execution_count": null,
   "id": "f991b353-b257-4aef-81b8-6b80e771053c",
   "metadata": {},
   "outputs": [],
   "source": [
    "subject=[\"Marketing\",\"Finance\",\"Psychology\",\"Management\",\"Science\"]\n",
    "subject1 = input(\"Enter your subject\")\n",
    "if subject1 in subject:\n",
    "    print(\"Subject is available\")\n",
    "else:\n",
    "    print(\"Subject is not available\")"
   ]
  },
  {
   "cell_type": "markdown",
   "id": "c0ed0726-c847-411d-8631-cad5b05dc75c",
   "metadata": {},
   "source": [
    "Q10. Write a Python program that performs the following tasks using tuple methods\n",
    "Create a tuple with multiple integer values, including duplicates.\n",
    "Prompt the user to input a number and find the index of its first occurrence in the tuple.\n",
    "Ask the user for another number and count how many times it appears in the tuple.\n",
    "Display appropriate messages based on the results"
   ]
  },
  {
   "cell_type": "code",
   "execution_count": null,
   "id": "351dd305-fb69-4b1d-9024-93a3877191b2",
   "metadata": {},
   "outputs": [],
   "source": [
    "numbers_tuple = (5, 10, 15, 20, 5, 30, 10, 5)\n",
    "\n",
    "user_number = int(input(\"Enter a number to find its first occurrence in the tuple: \"))\n",
    "\n",
    "if user_number in numbers_tuple:\n",
    "    index = numbers_tuple.index(user_number)\n",
    "    print(f\"The first occurrence of {user_number} is at index {index}.\")\n",
    "else:\n",
    "    print(f\"{user_number} is not in the tuple.\")\n",
    "\n",
    "another_number = int(input(\"Enter another number to count its occurrences in the tuple: \"))\n",
    "\n",
    "count = numbers_tuple.count(another_number)\n",
    "print(f\"{another_number} appears {count} times in the tuple.\")\n"
   ]
  },
  {
   "cell_type": "code",
   "execution_count": null,
   "id": "eef5c125-e0e1-477c-9a4b-7d6f53382e22",
   "metadata": {},
   "outputs": [],
   "source": []
  }
 ],
 "metadata": {
  "kernelspec": {
   "display_name": "Python 3 (ipykernel)",
   "language": "python",
   "name": "python3"
  },
  "language_info": {
   "codemirror_mode": {
    "name": "ipython",
    "version": 3
   },
   "file_extension": ".py",
   "mimetype": "text/x-python",
   "name": "python",
   "nbconvert_exporter": "python",
   "pygments_lexer": "ipython3",
   "version": "3.12.7"
  }
 },
 "nbformat": 4,
 "nbformat_minor": 5
}
