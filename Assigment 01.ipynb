{
 "cells": [
  {
   "cell_type": "markdown",
   "id": "ca91a196-b35a-4dd6-a73a-9757a6fce78c",
   "metadata": {
    "panel-layout": {
     "height": 60.5871,
     "visible": true,
     "width": 100
    }
   },
   "source": [
    "# Assigment 01"
   ]
  },
  {
   "cell_type": "code",
   "execution_count": 2,
   "id": "328360e7-762e-4930-94be-bf41f5beaf42",
   "metadata": {},
   "outputs": [],
   "source": [
    "salaries = ['20k', '40k', '50k', '60k', '35k', '89k','40k']"
   ]
  },
  {
   "cell_type": "markdown",
   "id": "e2feb8cb-4374-479a-bfb7-cdc01c141462",
   "metadata": {
    "panel-layout": {
     "height": 51.1364,
     "visible": true,
     "width": 100
    }
   },
   "source": [
    "Q1.What is the length of the salaries list."
   ]
  },
  {
   "cell_type": "code",
   "execution_count": 4,
   "id": "6dfb7d85-dc9f-49a4-8651-d6c23f44a179",
   "metadata": {
    "panel-layout": {
     "height": 27.1402,
     "visible": true,
     "width": 100
    }
   },
   "outputs": [
    {
     "data": {
      "text/plain": [
       "7"
      ]
     },
     "execution_count": 4,
     "metadata": {},
     "output_type": "execute_result"
    }
   ],
   "source": [
    "len(salaries)"
   ]
  },
  {
   "cell_type": "markdown",
   "id": "9ed2f29c-c153-49d9-a76c-bbe522659149",
   "metadata": {
    "panel-layout": {
     "height": 51.1364,
     "visible": true,
     "width": 100
    }
   },
   "source": [
    "Q2.Retrieve the third salary in the list by using index."
   ]
  },
  {
   "cell_type": "code",
   "execution_count": 6,
   "id": "2ef497c5-6a87-4c92-a1de-f1a9c9065217",
   "metadata": {
    "panel-layout": {
     "height": 51.1364,
     "visible": true,
     "width": 100
    }
   },
   "outputs": [
    {
     "data": {
      "text/plain": [
       "'50k'"
      ]
     },
     "execution_count": 6,
     "metadata": {},
     "output_type": "execute_result"
    }
   ],
   "source": [
    "salaries[2]"
   ]
  },
  {
   "cell_type": "markdown",
   "id": "4b8eb2da-5a48-44dd-b2ff-7abdd96e8654",
   "metadata": {
    "panel-layout": {
     "height": 51.1364,
     "visible": true,
     "width": 100
    }
   },
   "source": [
    "Q3.Extract the last salary from the list by using a negative index."
   ]
  },
  {
   "cell_type": "code",
   "execution_count": 8,
   "id": "eaf30de2-f4e5-4f26-a1d8-ff4d884b58a9",
   "metadata": {
    "panel-layout": {
     "height": 51.1364,
     "visible": true,
     "width": 100
    }
   },
   "outputs": [
    {
     "data": {
      "text/plain": [
       "'40k'"
      ]
     },
     "execution_count": 8,
     "metadata": {},
     "output_type": "execute_result"
    }
   ],
   "source": [
    "salaries[-1]"
   ]
  },
  {
   "cell_type": "markdown",
   "id": "b6aae434-e1a8-4a23-92dc-28b558f90f17",
   "metadata": {
    "panel-layout": {
     "height": 51.1364,
     "visible": true,
     "width": 100
    }
   },
   "source": [
    "Q4.Slice the salaries list to get only the middle three salaries."
   ]
  },
  {
   "cell_type": "code",
   "execution_count": 10,
   "id": "ff425499-feaf-4d1b-837b-5131f2a525b7",
   "metadata": {
    "panel-layout": {
     "height": 100.625,
     "visible": true,
     "width": 100
    }
   },
   "outputs": [
    {
     "data": {
      "text/plain": [
       "['50k', '60k', '35k']"
      ]
     },
     "execution_count": 10,
     "metadata": {},
     "output_type": "execute_result"
    }
   ],
   "source": [
    "salaries[2:5]"
   ]
  },
  {
   "cell_type": "markdown",
   "id": "a078bd74-ddeb-4f95-bad3-a8408f2c1928",
   "metadata": {
    "panel-layout": {
     "height": 51.1364,
     "visible": true,
     "width": 100
    }
   },
   "source": [
    "Q5.Add a new salary to the list, ‘100k’ by using append() method."
   ]
  },
  {
   "cell_type": "code",
   "execution_count": 12,
   "id": "01453424-7ec5-49c2-947c-af009a4e1284",
   "metadata": {},
   "outputs": [
    {
     "name": "stdout",
     "output_type": "stream",
     "text": [
      "['20k', '40k', '50k', '60k', '35k', '89k', '40k', '100k']\n"
     ]
    }
   ],
   "source": [
    "salaries.append(\"100k\")\n",
    "print(salaries)"
   ]
  },
  {
   "cell_type": "markdown",
   "id": "9b70cb03-f48b-4175-93af-97b363b01d29",
   "metadata": {
    "panel-layout": {
     "height": 51.1364,
     "visible": true,
     "width": 100
    }
   },
   "source": [
    "Q5.Add a new salary to the list, ‘120k’ without method."
   ]
  },
  {
   "cell_type": "code",
   "execution_count": 14,
   "id": "1bd501fd-e842-4064-a5d3-9bc4e18e5d77",
   "metadata": {},
   "outputs": [
    {
     "name": "stdout",
     "output_type": "stream",
     "text": [
      "['20k', '40k', '50k', '60k', '35k', '89k', '40k', '100k', '120k']\n"
     ]
    }
   ],
   "source": [
    "salaries += ['120k']\n",
    "print(salaries)"
   ]
  },
  {
   "cell_type": "markdown",
   "id": "a7d03917-7b24-43c9-aa0a-68e716546b0a",
   "metadata": {},
   "source": [
    "Q6.Replace the third salary in the list with '55k' and print the updated list."
   ]
  },
  {
   "cell_type": "code",
   "execution_count": 16,
   "id": "e97295c1-e82d-442f-aea1-4ca1c211ce9a",
   "metadata": {},
   "outputs": [
    {
     "name": "stdout",
     "output_type": "stream",
     "text": [
      "['20k', '40k', '55k', '60k', '35k', '89k', '40k', '100k', '120k']\n"
     ]
    }
   ],
   "source": [
    "salaries[2]='55k'\n",
    "print(salaries)"
   ]
  },
  {
   "cell_type": "markdown",
   "id": "3ce3bb51-802a-4fc1-8f2d-d06c636c669c",
   "metadata": {},
   "source": [
    "Q7.Count how many times '40k' appears in the list."
   ]
  },
  {
   "cell_type": "code",
   "execution_count": 18,
   "id": "6b34be59-fdb0-4aef-9733-5d429089086d",
   "metadata": {},
   "outputs": [
    {
     "data": {
      "text/plain": [
       "2"
      ]
     },
     "execution_count": 18,
     "metadata": {},
     "output_type": "execute_result"
    }
   ],
   "source": [
    "salaries.count('40k')"
   ]
  },
  {
   "cell_type": "markdown",
   "id": "d3d8c65b-ef44-4e87-b962-c53f6e80679e",
   "metadata": {},
   "source": [
    "Q8.Insert a new salary at the second position."
   ]
  },
  {
   "cell_type": "code",
   "execution_count": 20,
   "id": "002bd9b9-0c98-4be7-a38a-4358a650a4e0",
   "metadata": {},
   "outputs": [
    {
     "name": "stdout",
     "output_type": "stream",
     "text": [
      "['20k', '25k', '40k', '55k', '60k', '35k', '89k', '40k', '100k', '120k']\n"
     ]
    }
   ],
   "source": [
    "salaries.insert(1,\"25k\")\n",
    "print(salaries)"
   ]
  },
  {
   "cell_type": "markdown",
   "id": "13941521-fdf3-4c3f-ba1d-f0f61a9d0f97",
   "metadata": {},
   "source": [
    "Q9.Reverse the order of the salaries list with method."
   ]
  },
  {
   "cell_type": "code",
   "execution_count": 22,
   "id": "05031062-8769-439b-8b7f-6c2127fca42c",
   "metadata": {},
   "outputs": [
    {
     "name": "stdout",
     "output_type": "stream",
     "text": [
      "['120k', '100k', '40k', '89k', '35k', '60k', '55k', '40k', '25k', '20k']\n"
     ]
    }
   ],
   "source": [
    "salaries.reverse()\n",
    "print(salaries)"
   ]
  },
  {
   "cell_type": "markdown",
   "id": "30eee20c-e869-404a-ac15-392533086624",
   "metadata": {},
   "source": [
    "Q10.Reverse the order of the salaries list without method."
   ]
  },
  {
   "cell_type": "code",
   "execution_count": 35,
   "id": "482a5b37-c9fd-4c90-a969-bf221a1bc09c",
   "metadata": {},
   "outputs": [
    {
     "data": {
      "text/plain": [
       "['20k', '25k', '40k', '55k', '60k', '35k', '89k', '40k', '100k', '120k']"
      ]
     },
     "execution_count": 35,
     "metadata": {},
     "output_type": "execute_result"
    }
   ],
   "source": [
    "salaries[::-1]"
   ]
  },
  {
   "cell_type": "code",
   "execution_count": null,
   "id": "9b24730c-4c16-4db4-a22f-b52132698de3",
   "metadata": {},
   "outputs": [],
   "source": []
  }
 ],
 "metadata": {
  "kernelspec": {
   "display_name": "Python 3 (ipykernel)",
   "language": "python",
   "name": "python3"
  },
  "language_info": {
   "codemirror_mode": {
    "name": "ipython",
    "version": 3
   },
   "file_extension": ".py",
   "mimetype": "text/x-python",
   "name": "python",
   "nbconvert_exporter": "python",
   "pygments_lexer": "ipython3",
   "version": "3.12.7"
  },
  "panel-cell-order": [
   "ca91a196-b35a-4dd6-a73a-9757a6fce78c",
   "e2feb8cb-4374-479a-bfb7-cdc01c141462",
   "6dfb7d85-dc9f-49a4-8651-d6c23f44a179",
   "9ed2f29c-c153-49d9-a76c-bbe522659149",
   "2ef497c5-6a87-4c92-a1de-f1a9c9065217",
   "4b8eb2da-5a48-44dd-b2ff-7abdd96e8654",
   "eaf30de2-f4e5-4f26-a1d8-ff4d884b58a9",
   "b6aae434-e1a8-4a23-92dc-28b558f90f17",
   "ff425499-feaf-4d1b-837b-5131f2a525b7",
   "a078bd74-ddeb-4f95-bad3-a8408f2c1928",
   "9b70cb03-f48b-4175-93af-97b363b01d29"
  ]
 },
 "nbformat": 4,
 "nbformat_minor": 5
}
